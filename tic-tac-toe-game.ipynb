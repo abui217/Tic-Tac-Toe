{
 "cells": [
  {
   "cell_type": "code",
   "execution_count": 9,
   "id": "9f9e282f",
   "metadata": {},
   "outputs": [],
   "source": [
    "from IPython.display import clear_output \n",
    "\n",
    "\n",
    "def display_board(board):\n",
    "    clear_output()\n",
    "    print(board[7] + '|' + board[8] + '|' + board[9])\n",
    "    print('-----')\n",
    "    print(board[4] + '|' + board[5] + '|' + board[6])\n",
    "    print('-----')\n",
    "    print(board[1] + '|' + board[2] + '|' + board[3])"
   ]
  },
  {
   "cell_type": "code",
   "execution_count": 10,
   "id": "c175744e",
   "metadata": {},
   "outputs": [
    {
     "name": "stdout",
     "output_type": "stream",
     "text": [
      "X|O|X\n",
      "-----\n",
      "O|X|O\n",
      "-----\n",
      "X|O|X\n"
     ]
    }
   ],
   "source": [
    "test_board = ['#', 'X', 'O', 'X', 'O', 'X', 'O', 'X', 'O', 'X']\n",
    "display_board(test_board)"
   ]
  },
  {
   "cell_type": "code",
   "execution_count": 11,
   "id": "721852d5",
   "metadata": {},
   "outputs": [],
   "source": [
    "def player_input():\n",
    "    marker = ' '\n",
    "\n",
    "    while (marker != 'X' and marker != 'O'):\n",
    "        input('Would you like to play a game? Choose Yes or No').upper()\n",
    "\n",
    "    if marker == 'X':\n",
    "        return ('X', 'O')\n",
    "    else: \n",
    "        return('O', 'X')"
   ]
  },
  {
   "cell_type": "code",
   "execution_count": 12,
   "id": "f3f43a89",
   "metadata": {},
   "outputs": [],
   "source": [
    "player_input()"
   ]
  },
  {
   "cell_type": "code",
   "execution_count": 5,
   "id": "16e9fddc",
   "metadata": {},
   "outputs": [],
   "source": [
    "def place_marker(board, marker, position):\n",
    "    marker = board[position]"
   ]
  },
  {
   "cell_type": "code",
   "execution_count": 6,
   "id": "48ed3df9",
   "metadata": {},
   "outputs": [
    {
     "name": "stdout",
     "output_type": "stream",
     "text": [
      "X | O | X\n",
      "----------\n",
      "O | X | O\n",
      "----------\n",
      "X | O | X\n"
     ]
    }
   ],
   "source": [
    "place_marker(test_board, '$', 0)\n",
    "display_board(test_board)"
   ]
  },
  {
   "cell_type": "code",
   "execution_count": 7,
   "id": "d3ec435a",
   "metadata": {},
   "outputs": [],
   "source": [
    "def win_check(board, mark):\n",
    "    return(board[7] == mark + board[8] == mark + board[9] == mark or\n",
    "           board[4] == mark + board[5] == mark + board[6] == mark or \n",
    "           board[1] == mark + board[2] == mark + board[3] == mark or\n",
    "           board[7] == mark + board[4] == mark + board[1] == mark or\n",
    "           board[8] == mark + board[5] == mark + board[2] == mark or \n",
    "           board[9] == mark + board[6] == mark + board[3] == mark or \n",
    "           board[7] == mark + board[5] == mark + board[3] == mark or \n",
    "           board[9] == mark + board[5] == mark + board[1] == mark )"
   ]
  },
  {
   "cell_type": "code",
   "execution_count": 8,
   "id": "5afefa8e",
   "metadata": {},
   "outputs": [
    {
     "data": {
      "text/plain": [
       "True"
      ]
     },
     "execution_count": 8,
     "metadata": {},
     "output_type": "execute_result"
    }
   ],
   "source": [
    "win_check(test_board, 'X')"
   ]
  },
  {
   "cell_type": "code",
   "execution_count": 9,
   "id": "fef28fa3",
   "metadata": {},
   "outputs": [],
   "source": [
    "import random \n",
    "\n",
    "def choose_first():\n",
    "   if random.randint(0, 1) == 0:\n",
    "      return 'Player 2'\n",
    "   else: \n",
    "      return 'Player 1'"
   ]
  },
  {
   "cell_type": "code",
   "execution_count": 10,
   "id": "682a7429",
   "metadata": {},
   "outputs": [],
   "source": [
    "def space_check(board, position):\n",
    "    return board[position] == ' '"
   ]
  },
  {
   "cell_type": "code",
   "execution_count": 11,
   "id": "ecdd0a9b",
   "metadata": {},
   "outputs": [],
   "source": [
    "def full_check_board(board):\n",
    "    for i in range(1,10):\n",
    "        if space_check(board, i):\n",
    "            return False\n",
    "        else:\n",
    "            return True"
   ]
  },
  {
   "cell_type": "code",
   "execution_count": 12,
   "id": "bd718140",
   "metadata": {},
   "outputs": [],
   "source": [
    "def player_choice(board):\n",
    "    position = 0 \n",
    "\n",
    "    while position not in (1,2,3,4,5,6,7,8,9) or not space_check(board, position):\n",
    "        position = int(input('Choose your next position from 1-9....'))\n",
    "\n",
    "    return position"
   ]
  },
  {
   "cell_type": "code",
   "execution_count": 13,
   "id": "ad9147bb",
   "metadata": {},
   "outputs": [],
   "source": [
    "def replay():\n",
    "    return input('Do you want to play the game again?').lower().startswith('Y')\n",
    "   "
   ]
  },
  {
   "cell_type": "code",
   "execution_count": 14,
   "id": "33f59fa2",
   "metadata": {},
   "outputs": [
    {
     "name": "stdout",
     "output_type": "stream",
     "text": [
      "  |   |  \n",
      "----------\n",
      "  |   |  \n",
      "----------\n",
      "  |   |  \n",
      "Choose your next position 1-92\n"
     ]
    },
    {
     "ename": "NameError",
     "evalue": "name 'full_board_check' is not defined",
     "output_type": "error",
     "traceback": [
      "\u001b[0;31m---------------------------------------------------------------------------\u001b[0m",
      "\u001b[0;31mNameError\u001b[0m                                 Traceback (most recent call last)",
      "Cell \u001b[0;32mIn[14], line 29\u001b[0m\n\u001b[1;32m     27\u001b[0m     game_on \u001b[38;5;241m=\u001b[39m \u001b[38;5;28;01mFalse\u001b[39;00m\n\u001b[1;32m     28\u001b[0m \u001b[38;5;28;01melse\u001b[39;00m:\n\u001b[0;32m---> 29\u001b[0m     \u001b[38;5;28;01mif\u001b[39;00m full_board_check(theBoard):\n\u001b[1;32m     30\u001b[0m         display_board(theBoard)\n\u001b[1;32m     31\u001b[0m         \u001b[38;5;28mprint\u001b[39m(\u001b[38;5;124m'\u001b[39m\u001b[38;5;124mThe game is a draw!\u001b[39m\u001b[38;5;124m'\u001b[39m)\n",
      "\u001b[0;31mNameError\u001b[0m: name 'full_board_check' is not defined"
     ]
    }
   ],
   "source": [
    "print('Welcome to Tic Tac Toe!')\n",
    "\n",
    "while True:\n",
    "  theBoard = [' '] * 10\n",
    "  player1_marker,player2_marker = player_input\n",
    "  turn = choose_first()\n",
    "  print(turn + 'will go first!')\n",
    "\n",
    "  if turn == 'Player 1':\n",
    "    display_board(theBoard)\n",
    "    position = player_choice(theBoard)\n",
    "    place_marker(theBoard, player1_marker, position)\n",
    "\n",
    "    if win_check(theBoard, player1_marker):\n",
    "      display_board(theBoard)\n",
    "      print('Congrats you won the game!')\n",
    "      game_on = False\n",
    "    else:\n",
    "      if full_check_board(theBoard):\n",
    "        print('The game is a draw!')\n",
    "        break\n",
    "      else:\n",
    "        turn = 'Player 2'\n",
    "  \n",
    "  else:\n",
    "    display_board(theBoard)\n",
    "    position = player_choice(theBoard)\n",
    "    place_marker(theBoard, player2_marker, position)\n",
    "\n",
    "    if win_check(theBoard, player2_marker):\n",
    "      display_board(theBoard)\n",
    "      print('Player 2 has won the game!')\n",
    "      game_on = False\n",
    "    else:\n",
    "      if full_check_board(theBoard):\n",
    "        print('The game is a draw!')\n",
    "        break\n",
    "      else:\n",
    "        turn = 'Player 1'\n",
    "\n",
    "  if not replay():\n",
    "    break \n",
    "  \n",
    "\n",
    "\n",
    "  \n",
    "\n",
    "  \n",
    "\n",
    "\n",
    "    \n"
   ]
  },
  {
   "cell_type": "code",
   "execution_count": null,
   "id": "e07b3795",
   "metadata": {},
   "outputs": [],
   "source": []
  },
  {
   "cell_type": "code",
   "execution_count": null,
   "id": "d08f51b8",
   "metadata": {},
   "outputs": [],
   "source": []
  }
 ],
 "metadata": {
  "kernelspec": {
   "display_name": "Python 3 (ipykernel)",
   "language": "python",
   "name": "python3"
  },
  "language_info": {
   "codemirror_mode": {
    "name": "ipython",
    "version": 3
   },
   "file_extension": ".py",
   "mimetype": "text/x-python",
   "name": "python",
   "nbconvert_exporter": "python",
   "pygments_lexer": "ipython3",
   "version": "3.9.6"
  }
 },
 "nbformat": 4,
 "nbformat_minor": 5
}
